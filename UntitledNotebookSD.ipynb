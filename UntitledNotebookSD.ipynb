{
  "nbformat": 4,
  "nbformat_minor": 0,
  "metadata": {
    "colab": {
      "provenance": [],
      "gpuType": "T4",
      "include_colab_link": true
    },
    "kernelspec": {
      "name": "python3",
      "display_name": "Python 3"
    },
    "language_info": {
      "name": "python"
    },
    "accelerator": "GPU",
    "gpuClass": "standard"
  },
  "cells": [
    {
      "cell_type": "markdown",
      "metadata": {
        "id": "view-in-github",
        "colab_type": "text"
      },
      "source": [
        "<a href=\"https://colab.research.google.com/github/AlexSgt/lite_colab/blob/main/UntitledNotebookSD.ipynb\" target=\"_parent\"><img src=\"https://colab.research.google.com/assets/colab-badge.svg\" alt=\"Open In Colab\"/></a>"
      ]
    },
    {
      "cell_type": "markdown",
      "source": [
        "# **StableDiffusion GColab version adapted by AlexS**\n",
        "![youtube.png](data:image/png;base64,iVBORw0KGgoAAAANSUhEUgAAABAAAAAQCAMAAAAoLQ9TAAAAJ1BMVEVHcEz/AAD/AAD/AAD/AAD/AAD/AAD/AAD/AAD/////mJj/wcH/jY3aUCqcAAAACHRSTlMA8czbELSvDrGIfzkAAABCSURBVBiVY2AgA7CwMTMycgABIyMzGztQgIkDCTABBThQAEyAixtNgIeTkwu/AIYWZEMxrGVhZWaE8BiZWVnI8RoAJWEEDt2WmW4AAAAASUVORK5CYII=) **[YouTube](https://www.youtube.com/@Alex_Sizov)** | \n",
        "![boosty.png](data:image/png;base64,iVBORw0KGgoAAAANSUhEUgAAABAAAAAQCAMAAAAoLQ9TAAAAS1BMVEXvdinvZAfxZCrwdyzwcinxXyv////xXizvdynxXizxayrwVwPvbxr72MvxWyL0iWH+7+jwWxX5ybbwZhz4vqr2qIr/+PT0mG3zg1ZRrpYlAAAACnRSTlPz////////8zk5Y0/N5QAAAJxJREFUGJU1jQEShSAIREHRSkkztbr/Sf9S89cZdB8r0Epe7xjjqR6ilciLngC3esEhEhE+AFhUTAY8/M46H/6AToDZvdEX8A7geaCOLpQS43UwX7guTpS6LR1cj3c0QLOltfeMyJUBsnWemm3S2RK5HE3DPkbn3B8kK7UYaG/WSm2WCKFgCPwoJUC0hJCfOWtuZsNCG0gpXxd++wFHSQh7rmC2AQAAAABJRU5ErkJggg==) **[Boosty](https://boosty.to/alexsizov)** | \n",
        "![telegram.png](data:image/png;base64,iVBORw0KGgoAAAANSUhEUgAAABAAAAAQCAMAAAAoLQ9TAAAAY1BMVEX///80quUyp+IqndUtodosoNgrn9c2q+cwpd8qntY1qufZ7/qY0/BkvOjy+v0vpN08qeCTzehds92c1vVpwu9Es+yn2/V0xe5Ms+Z/yO3L6fhYt+e/4/ZxwOnm9PuKy+xEqtu3hIK0AAAAmklEQVQYlT2PiRLDIAhEVyupjdqQy1yNzf9/ZYkmfQzjLuAMAILrh3EceoeL+CyMsfhJdF1yyn1VK3WnzDilr5g9K3bwurCswKa1R9BW2zm+8QFEBbC1uzTXzSFZaxnchIT3Vz5jtY0UgjHm4NPDiwxoTcZLYcmvY6qIqOocDiJOstirKnFI5uX3x5/9Oo6KpXif69qOqGvTqX9x7ghTsVpjBwAAAABJRU5ErkJggg==) **[Telegram](https://t.me/aiartistry)** | \n",
        "![GitHub.png](data:image/png;base64,iVBORw0KGgoAAAANSUhEUgAAABAAAAAQCAYAAAAf8/9hAAAB2UlEQVR4AYzTM9wdQRQF8HMmNsv42S+23YdtbPZdbDvpu9io0sTJZ7uKzbdzM/Pbifl/WF0s7hI/6RlJpRQxh8BYAXrAIFAj4BUBjlSV5BXgO4QTDAabSeMW20nOB6Dwe1qAA82YW1lUVPQRBuGS0aTFeYCj8T9ErjVV3mRbRMEwnXfYZBG5T3IBgDw/Dk8FeOKvSxGAhSJyE+SYj9J429drDsbSnvmJ+R2EhamNumcy7eH07Nmn3ciRIxvDCERTO/3YVC4QyyQYiKZ3kFjuuhyrLMmfjb8wybsBLIEhwHYFyHg4GtyIf/kkX2NochXIrq77m+qSvDL8Q0VFfoNAHsEQsLuiSCP4mvXp06cJ/k1R0AqWiFJC1sEg2fj5u0/j8A+BSGYkyJbw1SoA1+BQuDuUSMTwB71i2RCU7IND8prSnj4IQEOwDpQH2lN5gVjqVCieGQDHPLq+wWj6BMUrJBCFT2vBQboAW3WOiAxRSs2FIICcmllRcf8RjHC4T2fdKGfXv7e3ojhviYLB3LuVJK6T6giFp0S41iQ/hlNWdteu6+9HGZ/ersZX7n0IxNJ73VSKm7zvB0jbYzbGxuJP7Gibe/BZDZCMhgAgMUU1HT109QAAAAD//wMAWIG6y3eBiWMAAAAASUVORK5CYII=) **[GitHub](https://github.com/AlexSgt/lite_colab)** "
      ],
      "metadata": {
        "id": "4X6nqvYZ7xBs"
      }
    },
    {
      "cell_type": "code",
      "source": [
        "#@markdown # Check type of GPU and VRAM available.\n",
        "!nvidia-smi --query-gpu=name,memory.total,memory.free --format=csv,noheader"
      ],
      "metadata": {
        "cellView": "form",
        "id": "9vfqmZIHFIMz"
      },
      "execution_count": null,
      "outputs": []
    },
    {
      "cell_type": "code",
      "source": [
        "#@markdown # Requirements\n",
        "\n",
        "from IPython.display import clear_output\n",
        "\n",
        "print('\u001b[1;32mInstalling requirements...')\n",
        "#%pip install --quiet blendmodes accelerate basicsr fonts font-roboto gfpgan gradio invisible-watermark numpy omegaconf opencv-contrib-python requests piexif Pillow pytorch-lightning==1.7.7 realesrgan scikit-image==0.19 timm==0.4.12 transformers==4.25.1 torch einops jsonmerge clean-fid resize-right torchdiffeq kornia lark inflection GitPython torchsde safetensors psutil rich\n",
        "#%cd /content/\n",
        "!git clone -q --branch main https://github.com/AlexSgt/lite_colab\n",
        "%cd /content/lite_colab\n",
        "%pip install -r requirements.txt --quiet\n",
        "!sed -i \"s@os.path.splitext(checkpoint_file)@os.path.splitext(checkpoint_file); map_location='cuda'@\" /content/lite_colab/modules/sd_models.py\n",
        "!sed -i 's@ui.create_ui().*@ui.create_ui();shared.demo.queue(concurrency_count=999999,status_update_rate=0.1)@' /content/lite_colab/startfk.py\n",
        "!sed -i \"s@map_location='cpu'@map_location='cuda'@\" /content/lite_colab/modules/extras.py\n",
        "!cp /content/lite_colab/assets/blocks.py /usr/local/lib/python3.10/dist-packages/gradio/blocks.py\n",
        "\n",
        "clear_output()\n",
        "print('\u001b[1;32mDone!')\n",
        "#!python launch.py --share --theme dark --api --ckpt-dir /content/models/ --disable-safe-unpickle --enable-insecure-extension-access --opt-sdp-attention --disable-console-progressbars --no-download-sd-model"
      ],
      "metadata": {
        "id": "ciseg_wdLz3S",
        "cellView": "form"
      },
      "execution_count": null,
      "outputs": []
    },
    {
      "cell_type": "code",
      "source": [
        "MODEL_LINK = \"https://huggingface.co/XpucT/Deliberate/resolve/main/Deliberate.safetensors\" #@param {type:\"string\"}\n",
        "safetensors = True #@param {type:\"boolean\"}\n",
        "\n",
        "if MODEL_LINK != \"\":\n",
        "  pth = '/content/lite_colab/models/Stable-diffusion/'  \n",
        "  if not safetensors:\n",
        "    modelname=\"model.ckpt\"\n",
        "  else:\n",
        "    modelname=\"model.safetensors\"\n",
        "  dwnld = pth + modelname\n",
        "  print('\u001b[1;32mDownload model...')\n",
        "  !gdown --fuzzy -O $dwnld \"$MODEL_LINK\"\n",
        "  clear_output()\n",
        "  print('\u001b[1;32mDone!')\n",
        "else:\n",
        "  print('\u001b[1;31mPaste model link and try again!')\n",
        "\n"
      ],
      "metadata": {
        "cellView": "form",
        "id": "QnLCXo9BTYOa"
      },
      "execution_count": null,
      "outputs": []
    },
    {
      "cell_type": "code",
      "source": [
        "#@markdown # Start SD\n",
        "\n",
        "!python launch.py --share --api --disable-safe-unpickle --enable-insecure-extension-access --opt-sdp-attention --disable-console-progressbars --no-download-sd-model"
      ],
      "metadata": {
        "cellView": "form",
        "id": "HAFOrFrYyZaY"
      },
      "execution_count": null,
      "outputs": []
    },
    {
      "cell_type": "code",
      "source": [
        "#@markdown # Save \"Outputs\" to GDrive\n",
        "\n",
        "from google.colab import drive\n",
        "drive.mount('/content/gdrive')\n",
        "\n",
        "!mkdir -p /content/gdrive/MyDrive/lite_colab/outputs\n",
        "!cp -r /content/lite_colab/outputs /content/gdrive/MyDrive/lite_colab\n",
        "\n",
        "clear_output()\n",
        "print('\u001b[1;32mDone!')"
      ],
      "metadata": {
        "id": "RMn-P7cuL-v4",
        "cellView": "form"
      },
      "execution_count": null,
      "outputs": []
    }
  ]
}